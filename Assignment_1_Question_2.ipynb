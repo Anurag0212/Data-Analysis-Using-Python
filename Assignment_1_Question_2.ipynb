{
 "cells": [
  {
   "cell_type": "markdown",
   "metadata": {},
   "source": [
    "# Question 2\n",
    "- Under package Gutenberg get content from file 'melville-moby_dick.txt.' (HINT: Words? Raw?)\n",
    "- Find out frequency of 26 characters. (Turn uppercase into lowercase and count as one character)\n",
    "- List all 26 characters in order base on their frequency. (From most frequent to least frequent)\u000b",
    "Try NOT to use FreqDist module.\n"
   ]
  },
  {
   "cell_type": "code",
   "execution_count": 2,
   "metadata": {
    "collapsed": false
   },
   "outputs": [
    {
     "name": "stdout",
     "output_type": "stream",
     "text": [
      "[Moby Dick by Herman Melville 1851]\r\n",
      "\r\n",
      "\r\n",
      "ETYMOLOGY.\r\n",
      "\r\n",
      "(Supplied by a Late Consumptive Usher to a Grammar School)\r\n",
      "\r\n",
      "The pale Usher--threadbare in coat, heart, body, and brain; I see him\r\n",
      "now.  He was ever dusting his old lexicons and grammars, with a queer\r\n",
      "handkerchief, mockingly embellished with all the gay flags of all the\r\n",
      "known nations of the world.  He loved to dust his old grammars; it\r\n",
      "somehow mildly reminded him of his mortality.\r\n",
      "\r\n",
      "\"While you take in hand to school others, and to teach them by what\r\n",
      "name a whale-fish is to be called in our tongue leaving out, through\r\n",
      "ignorance, the\n"
     ]
    }
   ],
   "source": [
    "# Under package Gutenberg get content from file 'melville-moby_dick.txt.'\n",
    "\n",
    "import nltk\n",
    "file=nltk.corpus.gutenberg.fileids()        #Assigned a variable to hold the file ids\n",
    "raw_content = nltk.corpus.gutenberg.raw('melville-moby_dick.txt')    #Storing content using raw function\n",
    "print(raw_content[:600])"
   ]
  },
  {
   "cell_type": "code",
   "execution_count": 3,
   "metadata": {
    "collapsed": false
   },
   "outputs": [
    {
     "name": "stdout",
     "output_type": "stream",
     "text": [
      "Below are the frequencies of 26 characters:\n",
      "\n"
     ]
    },
    {
     "data": {
      "text/plain": [
       "{'a': 77916,\n",
       " 'b': 16877,\n",
       " 'c': 22507,\n",
       " 'd': 38219,\n",
       " 'e': 117092,\n",
       " 'f': 20833,\n",
       " 'g': 20820,\n",
       " 'h': 62896,\n",
       " 'i': 65434,\n",
       " 'j': 1082,\n",
       " 'k': 8059,\n",
       " 'l': 42793,\n",
       " 'm': 23277,\n",
       " 'n': 65617,\n",
       " 'o': 69326,\n",
       " 'p': 17255,\n",
       " 'q': 1556,\n",
       " 'r': 52134,\n",
       " 's': 64231,\n",
       " 't': 87996,\n",
       " 'u': 26697,\n",
       " 'v': 8598,\n",
       " 'w': 22222,\n",
       " 'x': 1030,\n",
       " 'y': 16872,\n",
       " 'z': 632}"
      ]
     },
     "execution_count": 3,
     "metadata": {},
     "output_type": "execute_result"
    }
   ],
   "source": [
    "# Find out frequency of 26 characters. (Turn uppercase into lowercase and count as one character)\n",
    "\n",
    "LowerCase_RawContent=raw_content.lower()            #Convertig raw file into lower case\n",
    "Character_Frequency={}                              #Assigning a dictionary to store character and their frequencies\n",
    "for characters in LowerCase_RawContent:             #iterating through lower case files \n",
    "    if characters.isalpha():                        #Checking whether letters are an alphabet \n",
    "        if characters not in Character_Frequency:   #Checking if character exists in dictionary\n",
    "            Character_Frequency[characters]=1       #if does not exsist set count as 1\n",
    "        else:\n",
    "            Character_Frequency[characters]+=1      #if exsist increment count by 1\n",
    "print(\"Below are the frequencies of 26 characters:\\n\")\n",
    "Character_Frequency"
   ]
  },
  {
   "cell_type": "code",
   "execution_count": 7,
   "metadata": {
    "collapsed": false
   },
   "outputs": [
    {
     "name": "stdout",
     "output_type": "stream",
     "text": [
      "Below are the 26 characters based on their frequencies:\n",
      "\n"
     ]
    },
    {
     "data": {
      "text/plain": [
       "[('e', 117092),\n",
       " ('t', 87996),\n",
       " ('a', 77916),\n",
       " ('o', 69326),\n",
       " ('n', 65617),\n",
       " ('i', 65434),\n",
       " ('s', 64231),\n",
       " ('h', 62896),\n",
       " ('r', 52134),\n",
       " ('l', 42793),\n",
       " ('d', 38219),\n",
       " ('u', 26697),\n",
       " ('m', 23277),\n",
       " ('c', 22507),\n",
       " ('w', 22222),\n",
       " ('f', 20833),\n",
       " ('g', 20820),\n",
       " ('p', 17255),\n",
       " ('b', 16877),\n",
       " ('y', 16872),\n",
       " ('v', 8598),\n",
       " ('k', 8059),\n",
       " ('q', 1556),\n",
       " ('j', 1082),\n",
       " ('x', 1030),\n",
       " ('z', 632)]"
      ]
     },
     "execution_count": 7,
     "metadata": {},
     "output_type": "execute_result"
    }
   ],
   "source": [
    "# List all 26 characters in order base on their frequency\n",
    "\n",
    "import operator\n",
    "sorted_characters = sorted(Character_Frequency.items(), key=operator.itemgetter(1))\n",
    "sorted_characters.reverse()\n",
    "print(\"Below are the 26 characters based on their frequencies:\\n\")\n",
    "sorted_characters"
   ]
  },
  {
   "cell_type": "code",
   "execution_count": null,
   "metadata": {
    "collapsed": true
   },
   "outputs": [],
   "source": []
  }
 ],
 "metadata": {
  "kernelspec": {
   "display_name": "Python 3",
   "language": "python",
   "name": "python3"
  },
  "language_info": {
   "codemirror_mode": {
    "name": "ipython",
    "version": 3
   },
   "file_extension": ".py",
   "mimetype": "text/x-python",
   "name": "python",
   "nbconvert_exporter": "python",
   "pygments_lexer": "ipython3",
   "version": "3.6.0"
  }
 },
 "nbformat": 4,
 "nbformat_minor": 2
}
