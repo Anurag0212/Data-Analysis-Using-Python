{
 "cells": [
  {
   "cell_type": "markdown",
   "metadata": {},
   "source": [
    "# Question 4\n",
    "- Under package nps_chat, see what files are in it.\n",
    "- Find 'user121' and see how many posts he posted in all.\n",
    "- Find out how many unique user in each age range group. (20s, 30s,...)(Hint: files' name)\n"
   ]
  },
  {
   "cell_type": "code",
   "execution_count": 24,
   "metadata": {
    "collapsed": false
   },
   "outputs": [
    {
     "name": "stdout",
     "output_type": "stream",
     "text": [
      "There are 15 files in Nps chat:\n"
     ]
    },
    {
     "data": {
      "text/plain": [
       "['10-19-20s_706posts.xml',\n",
       " '10-19-30s_705posts.xml',\n",
       " '10-19-40s_686posts.xml',\n",
       " '10-19-adults_706posts.xml',\n",
       " '10-24-40s_706posts.xml',\n",
       " '10-26-teens_706posts.xml',\n",
       " '11-06-adults_706posts.xml',\n",
       " '11-08-20s_705posts.xml',\n",
       " '11-08-40s_706posts.xml',\n",
       " '11-08-adults_705posts.xml',\n",
       " '11-08-teens_706posts.xml',\n",
       " '11-09-20s_706posts.xml',\n",
       " '11-09-40s_706posts.xml',\n",
       " '11-09-adults_706posts.xml',\n",
       " '11-09-teens_706posts.xml']"
      ]
     },
     "execution_count": 24,
     "metadata": {},
     "output_type": "execute_result"
    }
   ],
   "source": [
    "import nltk\n",
    "from nltk.corpus import nps_chat\n",
    "Nps_Chat=nps_chat.fileids()\n",
    "print(\"There are\",len(Nps_Chat),\"files in Nps chat:\")\n",
    "Nps_Chat"
   ]
  },
  {
   "cell_type": "code",
   "execution_count": 51,
   "metadata": {
    "collapsed": false
   },
   "outputs": [
    {
     "name": "stdout",
     "output_type": "stream",
     "text": [
      "User121 has posted 132 posts\n"
     ]
    }
   ],
   "source": [
    "#Find 'user121' and see how many posts he posted in all.\n",
    "\n",
    "Post_Count=0\n",
    "All_posts=nps_chat.xml_posts()\n",
    "for posts in All_posts:\n",
    "    if posts.get(\"user\").endswith('User121'):\n",
    "        Post_Count+=1\n",
    "print(\"User121 has posted\",Post_Count,\"posts\")"
   ]
  },
  {
   "cell_type": "code",
   "execution_count": 71,
   "metadata": {
    "collapsed": false
   },
   "outputs": [
    {
     "name": "stdout",
     "output_type": "stream",
     "text": [
      "Number unique user in each age range groups are as follows:\n",
      "*************************************************************\n",
      "\n",
      "Range 20s has: 162 users\n",
      "Range 30s has: 44 users\n",
      "Range 40s has: 80 users\n",
      "Adults has: 0 users\n",
      "Teens has: 206 users\n"
     ]
    }
   ],
   "source": [
    "# Find out how many unique user in each age range group. (20s, 30s,...)(\n",
    "\n",
    "Users_in_20s=[]\n",
    "Users_in_30s=[]\n",
    "Users_in_40s=[]\n",
    "Users_in_adults=[]\n",
    "Users_in_Teens=[]\n",
    "\n",
    "for posts in All_posts:\n",
    "    if \"20sUser\" in posts.get(\"user\"):\n",
    "        username=posts.get(\"user\")[6:]\n",
    "        Users_in_20s.append(username)\n",
    "    elif \"30sUser\" in posts.get(\"user\"):\n",
    "        username=posts.get(\"user\")[6:]\n",
    "        Users_in_30s.append(username)\n",
    "    elif \"40sUser\" in posts.get(\"user\"):\n",
    "        username=posts.get(\"user\")[6:]\n",
    "        Users_in_40s.append(username)\n",
    "    elif \"adutsUser\" in posts.get(\"user\"):\n",
    "        username=posts.get(\"user\")[6:]\n",
    "        Users_in_adults.append(username)\n",
    "    elif \"teensUser\" in posts.get(\"user\"):\n",
    "        username=posts.get(\"user\")[6:]\n",
    "        Users_in_Teens.append(username)\n",
    "\n",
    "print(\"Number unique user in each age range groups are as follows:\")\n",
    "print(\"*************************************************************\\n\")\n",
    "print(\"Range 20s has:\",len(set(Users_in_20s)),\"users\")\n",
    "print(\"Range 30s has:\",len(set(Users_in_30s)),\"users\")\n",
    "print(\"Range 40s has:\",len(set(Users_in_40s)),\"users\")\n",
    "print(\"Adults has:\",len(set(Users_in_adults)),\"users\")\n",
    "print(\"Teens has:\",len(set(Users_in_Teens)),\"users\")"
   ]
  },
  {
   "cell_type": "code",
   "execution_count": null,
   "metadata": {
    "collapsed": true
   },
   "outputs": [],
   "source": []
  }
 ],
 "metadata": {
  "kernelspec": {
   "display_name": "Python 3",
   "language": "python",
   "name": "python3"
  },
  "language_info": {
   "codemirror_mode": {
    "name": "ipython",
    "version": 3
   },
   "file_extension": ".py",
   "mimetype": "text/x-python",
   "name": "python",
   "nbconvert_exporter": "python",
   "pygments_lexer": "ipython3",
   "version": "3.6.0"
  }
 },
 "nbformat": 4,
 "nbformat_minor": 2
}
