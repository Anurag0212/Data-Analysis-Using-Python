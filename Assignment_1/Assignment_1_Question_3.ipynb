{
 "cells": [
  {
   "cell_type": "markdown",
   "metadata": {},
   "source": [
    "# Question 3\n",
    "- Under package Webtext, see what files are in it.\n",
    "- Get content in file 'pirates.txt'.\n",
    "- According to the number of lines for Jack Sparrow and Will Turner, find out who is the real leading man in this movie."
   ]
  },
  {
   "cell_type": "code",
   "execution_count": 2,
   "metadata": {
    "collapsed": false
   },
   "outputs": [
    {
     "name": "stdout",
     "output_type": "stream",
     "text": [
      "There are 6 files in webtext:\n"
     ]
    },
    {
     "data": {
      "text/plain": [
       "['firefox.txt',\n",
       " 'grail.txt',\n",
       " 'overheard.txt',\n",
       " 'pirates.txt',\n",
       " 'singles.txt',\n",
       " 'wine.txt']"
      ]
     },
     "execution_count": 2,
     "metadata": {},
     "output_type": "execute_result"
    }
   ],
   "source": [
    "# Under package Webtext, see what files are in it\n",
    "import nltk\n",
    "from nltk.corpus import webtext       #importing webtext file from nltk\n",
    "Files=webtext.fileids()               #Assigning a variable to store the file ids from web text\n",
    "print(\"There are\",len(Files),\"files in webtext:\")\n",
    "Files"
   ]
  },
  {
   "cell_type": "code",
   "execution_count": 4,
   "metadata": {
    "collapsed": false
   },
   "outputs": [
    {
     "name": "stdout",
     "output_type": "stream",
     "text": [
      "PIRATES OF THE CARRIBEAN: DEAD MAN'S CHEST, by Ted Elliott & Terry Rossio\n",
      "[view looking straight down at rolling swells, sound of wind and thunder, then a low heartbeat]\n",
      "Scene: PORT ROYAL\n",
      "[teacups on a table in the rain]\n",
      "[sheet music on music stands in the rain]\n",
      "[bouquet of white orchids, Elizabeth sitting in the rain holding the bouquet]\n",
      "[men rowing, men on horseback, to the sound of thunder]\n",
      "[EITC logo on flag blowing in the wind]\n",
      "[many rowboats are entering the harbor]\n",
      "[Elizabeth sitting alone, at a distance]\n",
      "[marines running, kick a door in] \n",
      "[a mule is seen on the left in the barn where t\n"
     ]
    }
   ],
   "source": [
    "# Get content in file 'pirates.txt'\n",
    "Pirates_Content=webtext.raw('pirates.txt')   #Assigned a variable to store the raw file\n",
    "print(Pirates_Content[:600])"
   ]
  },
  {
   "cell_type": "code",
   "execution_count": 29,
   "metadata": {
    "collapsed": false
   },
   "outputs": [
    {
     "name": "stdout",
     "output_type": "stream",
     "text": [
      "Number of lines by Jack Sparrow: 193 \n",
      "Number of lines by Will Turner: 133\n",
      "\n",
      "*********************************************\n",
      "As per the number of lines by per Actor:\n",
      "Leading Man in the movie is -> JACK SPARROW\n"
     ]
    }
   ],
   "source": [
    "# According to the number of lines for Jack Sparrow and Will Turner, find out who is the real leading man in this movie\n",
    "LinesBy_JackSparrow=(Pirates_Content.count('JACK SPARROW:'))   #Counting lines for Jack Sparrow\n",
    "LinesBy_WillTurner=(Pirates_Content.count('WILL TURNER:'))     #Counting lines for Jack Sparrow\n",
    "print(\"Number of lines by Jack Sparrow:\",LinesBy_JackSparrow,\"\\nNumber of lines by Will Turner:\",LinesBy_WillTurner)\n",
    "print(\"\\n*********************************************\\nAs per the number of lines by per Actor:\")\n",
    "if LinesBy_JackSparrow>LinesBy_WillTurner:      #Comparing lines by jack Sparrow and Will Turner\n",
    "    print(\"Leading Man in the movie is -> JACK SPARROW\")\n",
    "else:\n",
    "    print(\"Leading Man in the movie is -> WILL TURNER\")\n"
   ]
  },
  {
   "cell_type": "code",
   "execution_count": null,
   "metadata": {
    "collapsed": true
   },
   "outputs": [],
   "source": []
  }
 ],
 "metadata": {
  "kernelspec": {
   "display_name": "Python 3",
   "language": "python",
   "name": "python3"
  },
  "language_info": {
   "codemirror_mode": {
    "name": "ipython",
    "version": 3
   },
   "file_extension": ".py",
   "mimetype": "text/x-python",
   "name": "python",
   "nbconvert_exporter": "python",
   "pygments_lexer": "ipython3",
   "version": "3.6.0"
  }
 },
 "nbformat": 4,
 "nbformat_minor": 2
}
