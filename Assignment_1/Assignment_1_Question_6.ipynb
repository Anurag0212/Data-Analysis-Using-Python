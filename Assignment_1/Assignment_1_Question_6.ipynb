{
 "cells": [
  {
   "cell_type": "markdown",
   "metadata": {},
   "source": [
    "# Question 6\n",
    "- Under Inaugural Address package\n",
    "- For every president, find out how many unique words they used in speech. \n",
    "- We will just assume that President Bush means one person (technically it is incorrect but we will ignore it)"
   ]
  },
  {
   "cell_type": "code",
   "execution_count": 32,
   "metadata": {
    "collapsed": false
   },
   "outputs": [
    {
     "name": "stdout",
     "output_type": "stream",
     "text": [
      "There are 34 presidents under inaugural module:\n"
     ]
    },
    {
     "data": {
      "text/plain": [
       "['Washington',\n",
       " 'Adams',\n",
       " 'Jefferson',\n",
       " 'Madison',\n",
       " 'Monroe',\n",
       " 'Jackson',\n",
       " 'VanBuren',\n",
       " 'Harrison',\n",
       " 'Polk',\n",
       " 'Taylor',\n",
       " 'Pierce',\n",
       " 'Buchanan',\n",
       " 'Lincoln',\n",
       " 'Grant',\n",
       " 'Hayes',\n",
       " 'Garfield',\n",
       " 'Cleveland',\n",
       " 'McKinley',\n",
       " 'Roosevelt',\n",
       " 'Taft',\n",
       " 'Wilson',\n",
       " 'Harding',\n",
       " 'Coolidge',\n",
       " 'Hoover',\n",
       " 'Truman',\n",
       " 'Eisenhower',\n",
       " 'Kennedy',\n",
       " 'Johnson',\n",
       " 'Nixon',\n",
       " 'Carter',\n",
       " 'Reagan',\n",
       " 'Bush',\n",
       " 'Clinton',\n",
       " 'Obama']"
      ]
     },
     "execution_count": 32,
     "metadata": {},
     "output_type": "execute_result"
    }
   ],
   "source": [
    "# Under Inaugural Address package\n",
    "\n",
    "import nltk\n",
    "from nltk.corpus import inaugural\n",
    "Files=inaugural.fileids()\n",
    "President_List=[]\n",
    "for words in Files:\n",
    "    president=words[5:-4]\n",
    "    if president not in President_List:\n",
    "        President_List.append(president)\n",
    "print(\"There are\",len(President_List),\"presidents under inaugural module:\")\n",
    "President_List"
   ]
  },
  {
   "cell_type": "code",
   "execution_count": 33,
   "metadata": {
    "collapsed": false
   },
   "outputs": [
    {
     "name": "stdout",
     "output_type": "stream",
     "text": [
      "Word count for each president {'Washington': 724, 'Adams': 1835, 'Jefferson': 1523, 'Madison': 1079, 'Monroe': 2306, 'Jackson': 1019, 'VanBuren': 1318, 'Harrison': 3251, 'Polk': 1333, 'Taylor': 499, 'Pierce': 1168, 'Buchanan': 948, 'Lincoln': 1441, 'Grant': 1042, 'Hayes': 832, 'Garfield': 1022, 'Cleveland': 1496, 'McKinley': 2099, 'Roosevelt': 2690, 'Taft': 1439, 'Wilson': 1210, 'Harding': 1170, 'Coolidge': 1221, 'Hoover': 1087, 'Truman': 781, 'Eisenhower': 1521, 'Kennedy': 570, 'Johnson': 571, 'Nixon': 1288, 'Carter': 529, 'Reagan': 1831, 'Bush': 2198, 'Clinton': 1417, 'Obama': 938}\n"
     ]
    }
   ],
   "source": [
    "President_Names={}\n",
    "for speech in Files:\n",
    "    if speech[5:-4] in President_Names:\n",
    "        Total_words=inaugural.words(speech)\n",
    "        Unique_word=set(Total_words)\n",
    "        Unique_word_count=len(Unique_word)\n",
    "        President_Names[speech[5:-4]]+=Unique_word_count\n",
    "    else:\n",
    "        Total_words=inaugural.words(speech)\n",
    "        Unique_word=set(Total_words)\n",
    "        Unique_word_count=len(Unique_word)\n",
    "        President_Names[speech[5:-4]]=Unique_word_count\n",
    "print(\"Word count for each president\",President_Names)"
   ]
  },
  {
   "cell_type": "code",
   "execution_count": null,
   "metadata": {
    "collapsed": true
   },
   "outputs": [],
   "source": []
  }
 ],
 "metadata": {
  "kernelspec": {
   "display_name": "Python 3",
   "language": "python",
   "name": "python3"
  },
  "language_info": {
   "codemirror_mode": {
    "name": "ipython",
    "version": 3
   },
   "file_extension": ".py",
   "mimetype": "text/x-python",
   "name": "python",
   "nbconvert_exporter": "python",
   "pygments_lexer": "ipython3",
   "version": "3.6.0"
  }
 },
 "nbformat": 4,
 "nbformat_minor": 2
}
