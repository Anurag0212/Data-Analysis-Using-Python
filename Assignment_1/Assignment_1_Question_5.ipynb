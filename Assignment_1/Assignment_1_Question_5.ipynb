{
 "cells": [
  {
   "cell_type": "markdown",
   "metadata": {},
   "source": [
    "# Question 5\n",
    "- Use Gutenberg and Web_text data. Find out what are the top 5 words that Shakespeare used but we do not use in currently.\n",
    "- Take top 50 words from Shakespeare (all 3 books) and top 50 from Web_text (all the records).\n",
    "- Remove punctuation and stop words.\n",
    "- Remove the words we still use today, and get the unused list. Show the top 5 elements. "
   ]
  },
  {
   "cell_type": "code",
   "execution_count": 22,
   "metadata": {
    "collapsed": false
   },
   "outputs": [
    {
     "name": "stdout",
     "output_type": "stream",
     "text": [
      "Top 5 words that Shakespeare used but we dont use currently:\n",
      " [('haue', 406), ('Ham', 337), ('Brutus', 162), ('Bru', 153), ('selfe', 139)]\n"
     ]
    }
   ],
   "source": [
    "# from Gutenberg and Web_text data.Find out top 5 words that Shakespeare used but we do not use in currently.\n",
    "\n",
    "import nltk\n",
    "from nltk.corpus import gutenberg\n",
    "from nltk.corpus import stopwords\n",
    "from nltk.corpus import webtext\n",
    "   \n",
    "Gutenberg_File=gutenberg.fileids()                #Assigned a variable to hold the file ids from gutenberg\n",
    "Stopwords=stopwords.words('english')              #Assigned a variable to hold the Stopwords\n",
    "Webtext_File=webtext.fileids()                    #Assigned a variable to hold file ids from webtext\n",
    "\n",
    "Shakespeare_words=[]                              #Declared a list to store words from Shakespears book\n",
    "for file in Gutenberg_File:                       #iterating through the gutenberg file\n",
    "    if file.startswith('shakespeare'):            #Consider only those file that are starting with Shakespeare\n",
    "        for words in gutenberg.words(file):        \n",
    "            if words.isalpha():\n",
    "                if words.lower() not in Stopwords:\n",
    "                    Shakespeare_words.append(words)   #Adding words to the list\n",
    "\n",
    "Shakespeare_words_dictionary={}                       #Declared a dictionary to store word and their frequencies\n",
    "for letters in Shakespeare_words:                     #Iterating through shakespeares words\n",
    "    if letters not in Shakespeare_words_dictionary:\n",
    "        Shakespeare_words_dictionary[letters]=1       #Adding words and their count in dictionary if word does not exsist\n",
    "    else:\n",
    "        Shakespeare_words_dictionary[letters]+=1     #Incrementing count of frequencies\n",
    "\n",
    "# Sorting words based on their frequency\n",
    "Sorted_List=sorted(Shakespeare_words_dictionary.items(),key=lambda a:a[1], reverse=True)\n",
    "\n",
    "Webtext_words=[]                                    #Declared a list to store words from webtext\n",
    "for webtextFile in Webtext_File:                    #iterating through the webtext file\n",
    "    for word in webtext.words(webtextFile):         \n",
    "        if word.isalpha():\n",
    "            if word.lower() not in Stopwords:\n",
    "                Webtext_words.append(word)          #Adding words to the list\n",
    "\n",
    "\n",
    "Shakespeare_Top5words=[]                            #Assigned a variable to store top 5 words from shakespeare\n",
    "for shakespearesWord in Sorted_List:\n",
    "    if shakespearesWord[0] not in set(Webtext_words):    \n",
    "        Shakespeare_Top5words.append(shakespearesWord)  #Adding only those words to the list which are not present in webtext words\n",
    "print(\"Top 5 words that Shakespeare used but we dont use currently:\\n\",Shakespeare_Top5words[:5])"
   ]
  },
  {
   "cell_type": "code",
   "execution_count": 19,
   "metadata": {
    "collapsed": false
   },
   "outputs": [
    {
     "name": "stdout",
     "output_type": "stream",
     "text": [
      "Top 50 words from Shakespeare are:\n"
     ]
    },
    {
     "data": {
      "text/plain": [
       "[('haue', 406),\n",
       " ('Ham', 337),\n",
       " ('Lord', 293),\n",
       " ('shall', 259),\n",
       " ('thou', 256),\n",
       " ('King', 231),\n",
       " ('Enter', 225),\n",
       " ('Caesar', 192),\n",
       " ('vs', 183),\n",
       " ('thy', 175),\n",
       " ('thee', 174),\n",
       " ('know', 169),\n",
       " ('good', 165),\n",
       " ('Brutus', 162),\n",
       " ('Bru', 153),\n",
       " ('come', 151),\n",
       " ('would', 142),\n",
       " ('like', 142),\n",
       " ('selfe', 139),\n",
       " ('Macb', 137),\n",
       " ('man', 132),\n",
       " ('vpon', 126),\n",
       " ('well', 126),\n",
       " ('let', 122),\n",
       " ('may', 121),\n",
       " ('must', 116),\n",
       " ('hath', 115),\n",
       " ('say', 113),\n",
       " ('st', 110),\n",
       " ('th', 108),\n",
       " ('Cassi', 107),\n",
       " ('Ile', 106),\n",
       " ('yet', 104),\n",
       " ('see', 104),\n",
       " ('time', 103),\n",
       " ('make', 102),\n",
       " ('one', 101),\n",
       " ('heere', 100),\n",
       " ('speake', 100),\n",
       " ('Hamlet', 99),\n",
       " ('Let', 95),\n",
       " ('Hor', 95),\n",
       " ('vp', 91),\n",
       " ('Sir', 89),\n",
       " ('doe', 89),\n",
       " ('men', 87),\n",
       " ('mine', 86),\n",
       " ('Cassius', 85),\n",
       " ('much', 83),\n",
       " ('loue', 81)]"
      ]
     },
     "execution_count": 19,
     "metadata": {},
     "output_type": "execute_result"
    }
   ],
   "source": [
    "# Top 50 words from Shakespeare (all 3 books)\n",
    "\n",
    "print(\"Top 50 words from Shakespeare are:\")\n",
    "Sorted_List[:50]"
   ]
  },
  {
   "cell_type": "code",
   "execution_count": 20,
   "metadata": {
    "collapsed": false
   },
   "outputs": [
    {
     "name": "stdout",
     "output_type": "stream",
     "text": [
      "Top 50 words from Webtext are:\n"
     ]
    },
    {
     "data": {
      "text/plain": [
       "[('Girl', 1755),\n",
       " ('Guy', 1659),\n",
       " ('like', 1580),\n",
       " ('girl', 1200),\n",
       " ('guy', 1086),\n",
       " ('know', 1020),\n",
       " ('get', 785),\n",
       " ('Yeah', 772),\n",
       " ('page', 723),\n",
       " ('Oh', 664),\n",
       " ('one', 642),\n",
       " ('Woman', 640),\n",
       " ('window', 630),\n",
       " ('Firefox', 602),\n",
       " ('cell', 577),\n",
       " ('open', 567),\n",
       " ('Teen', 550),\n",
       " ('man', 543),\n",
       " ('work', 528),\n",
       " ('Chick', 514),\n",
       " ('Man', 511),\n",
       " ('new', 506),\n",
       " ('go', 496),\n",
       " ('bar', 490),\n",
       " ('good', 488),\n",
       " ('think', 478),\n",
       " ('right', 477),\n",
       " ('want', 471),\n",
       " ('menu', 465),\n",
       " ('tab', 458),\n",
       " ('going', 451),\n",
       " ('Firebird', 437),\n",
       " ('boy', 428),\n",
       " ('Well', 416),\n",
       " ('time', 415),\n",
       " ('got', 402),\n",
       " ('browser', 392),\n",
       " ('really', 392),\n",
       " ('back', 388),\n",
       " ('button', 371),\n",
       " ('toolbar', 364),\n",
       " ('lady', 364),\n",
       " ('bookmarks', 352),\n",
       " ('would', 352),\n",
       " ('people', 345),\n",
       " ('woman', 345),\n",
       " ('dialog', 330),\n",
       " ('bookmark', 329),\n",
       " ('see', 328),\n",
       " ('file', 315)]"
      ]
     },
     "execution_count": 20,
     "metadata": {},
     "output_type": "execute_result"
    }
   ],
   "source": [
    "# Top 50 from Web_text (all the records).\n",
    "\n",
    "Webtext_words_dictionary={}\n",
    "for words in Webtext_words:\n",
    "    if words not in Webtext_words_dictionary:\n",
    "        Webtext_words_dictionary[words]=1\n",
    "    else:\n",
    "        Webtext_words_dictionary[words]+=1\n",
    "\n",
    "#Sorting webtext word based on their frequency\n",
    "Sorted_WebtextList=sorted(Webtext_words_dictionary.items(),key=lambda a:a[1], reverse=True) \n",
    "\n",
    "print(\"Top 50 words from Webtext are:\")\n",
    "Sorted_WebtextList[:50]"
   ]
  },
  {
   "cell_type": "code",
   "execution_count": null,
   "metadata": {
    "collapsed": true
   },
   "outputs": [],
   "source": []
  }
 ],
 "metadata": {
  "kernelspec": {
   "display_name": "Python 3",
   "language": "python",
   "name": "python3"
  },
  "language_info": {
   "codemirror_mode": {
    "name": "ipython",
    "version": 3
   },
   "file_extension": ".py",
   "mimetype": "text/x-python",
   "name": "python",
   "nbconvert_exporter": "python",
   "pygments_lexer": "ipython3",
   "version": "3.6.0"
  }
 },
 "nbformat": 4,
 "nbformat_minor": 2
}
