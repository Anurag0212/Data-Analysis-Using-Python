{
 "cells": [
  {
   "cell_type": "markdown",
   "metadata": {
    "collapsed": true
   },
   "source": [
    " # Question 1\n",
    " - Learn and understand Zipf’s Law.  \n",
    " - Pick any file (or files) in NLTK package.  \n",
    " - Prove if Zipf’s Law works in Natural Language or not.  \n",
    " - REQUIREMNTS: (Must Do)  Use ’glob’ to open and read file. \n",
    "       - If read multiple files use LOOP to achieve.  \n",
    "       - Create at least one function and one lambda function.  \n",
    "       - Save your data as an CSV file contains (Word, Rank, Frequency) with TITLE and Sort it by RANK.  \n",
    "       - Open your CSV file, generate a log-log figure according to the data you saved.  \n",
    "       - Write a conclusion at the end of your code base on your figure. "
   ]
  },
  {
   "cell_type": "markdown",
   "metadata": {
    "collapsed": false
   },
   "source": [
    "# Zipf's Law Definition:\n",
    "- Zipf's law states that given some corpus of natural language utterances, the frequency of any word is inversely   proportional to its rank in the frequency table."
   ]
  },
  {
   "cell_type": "code",
   "execution_count": 1,
   "metadata": {
    "collapsed": false
   },
   "outputs": [],
   "source": [
    "from nltk.corpus import webtext        #Importing webtext module \n",
    "import matplotlib.pyplot as plt        #Iporting matplot lib to use loglog figure\n",
    "import glob                            #Importing glob function to read and write the files\n",
    "import csv                             #Importing the CSV module to read and write the data in CSV file"
   ]
  },
  {
   "cell_type": "code",
   "execution_count": 2,
   "metadata": {
    "collapsed": false
   },
   "outputs": [
    {
     "name": "stdout",
     "output_type": "stream",
     "text": [
      "[('the', 7733), ('to', 6232), ('a', 6072), ('i', 6033), ('you', 4530), ('and', 4360), ('in', 4131), ('of', 3156), ('on', 3114), ('is', 2873), ('not', 2551), ('with', 1886), ('that', 1882), ('for', 1830), ('when', 1809), ('it', 1809), ('girl', 1558), ('my', 1534), ('have', 1373), ('but', 1356)]\n"
     ]
    }
   ],
   "source": [
    "webtext_file=glob.glob(r'webtext/*.txt')\n",
    "\n",
    "words_frequency={}                                                     #Empty dictionary to store words and its frequency\n",
    "for file in webtext_file:                                 \n",
    "    with open(file,'r') as f:                                     #Open webtext files in read mode\n",
    "        read_file=f.read()                                        #Assigned a variable to sotore the content from files\n",
    "        lower_words=read_file.lower()                             #Convert the content to lower case\n",
    "        words = lower_words.split()                               #Split() function separates the words with whitespace and add it to the words list\n",
    "    for word in words:\n",
    "        if word.isalpha():                                        #Checking if the word is an alphabet\n",
    "            if word not in words_frequency:                       #Checking if the word already exist in the dictionary\n",
    "                words_frequency[word] = 1                         #If words doen't exist assign it a value 1\n",
    "            else:\n",
    "                words_frequency[word] += 1                        #For existing words increment the count by 1\n",
    "sorted_words=sorted(words_frequency.items(), key=lambda x: x[1], reverse=True)   #Use of lambda function to sort the words in descending order of their frequency\n",
    "print(sorted_words[:20])                                         "
   ]
  },
  {
   "cell_type": "code",
   "execution_count": 3,
   "metadata": {
    "collapsed": false
   },
   "outputs": [],
   "source": [
    "def write_file():                                                              #Defined a function to write the files in csv.\n",
    "    rank=1                                                                     #Assigned a variable rank with ots value=1\n",
    "    csvfile=open(r'zipf_file.csv', 'w',newline=\"\")#Created and opened a csv file with write option.\n",
    "    write=csv.writer(csvfile)                                                 \n",
    "    write.writerow(['Rank','Words','Frequency'])                              #Add a heading to our csvfile\n",
    "    for words in sorted_words:\n",
    "        write.writerow([rank,words[0],words[1]])                             #Add the contents row by row from the file\n",
    "        rank+=1                                                               #Increment rank by 1 for every new row\n",
    "    csvfile.close()                                                           #Close the csv file"
   ]
  },
  {
   "cell_type": "code",
   "execution_count": 4,
   "metadata": {
    "collapsed": false
   },
   "outputs": [],
   "source": [
    "write_file()                                  #Calling write_file function to create a csv file on the specified path"
   ]
  },
  {
   "cell_type": "code",
   "execution_count": 5,
   "metadata": {
    "collapsed": false
   },
   "outputs": [
    {
     "data": {
      "image/png": "[encoded data removed]",
      "text/plain": [
       "<matplotlib.figure.Figure at 0x1fac1075b00>"
      ]
     },
     "metadata": {},
     "output_type": "display_data"
    }
   ],
   "source": [
    "csvfile=open(r'zipf_file.csv', 'r') #Open csv file with read command\n",
    "rank=[]                                                          #Declared an empty list to store rank\n",
    "word=[]                                                          #Empty list to store words\n",
    "frequency=[]                                                     #Empty list to store Frequency\n",
    "csv_f=csv.reader(csvfile)                                        #Read the csv file using reader function\n",
    "for columns in csv_f:\n",
    "    rank.append(columns[0])                                      #Append Rank column to Rank list\n",
    "    word.append(columns[1])                                      #Append Word column to word list\n",
    "    frequency.append(columns[2])                                 #Append Frequency column to Frequency list\n",
    "rank.pop(0)                                                      #Pop out heading 'Rank' from the list\n",
    "frequency.pop(0)                                                 #Pop out heading 'Frequency' from the list\n",
    "plt.loglog(rank,frequency,linewidth=2)                                       #Ploting loglog graph with rank on x axis and frequency on y\n",
    "plt.grid(True)                                                   #Enable grid option \n",
    "plt.title(\"Loglog figure for Webtext words\")                     #Providing title for the graph\n",
    "plt.xlabel(\"Rank\")                                               #Assigning lable to X-axis\n",
    "plt.ylabel(\"Frequency\")                                          #Assigning lable to Y-axis\n",
    "plt.show()                                                       #Display the plot"
   ]
  },
  {
   "cell_type": "markdown",
   "metadata": {},
   "source": [
    "# Conclusion:\n",
    "- The loglog figure based on the webtext words follows the zipf's law as the frequency of \"the\" word is highest in the webtext words and it is inversaly proportional to its rank in Frequency table.\n",
    "- Hence Proved!!"
   ]
  }
 ],
 "metadata": {
  "kernelspec": {
   "display_name": "Python 3",
   "language": "python",
   "name": "python3"
  },
  "language_info": {
   "codemirror_mode": {
    "name": "ipython",
    "version": 3
   },
   "file_extension": ".py",
   "mimetype": "text/x-python",
   "name": "python",
   "nbconvert_exporter": "python",
   "pygments_lexer": "ipython3",
   "version": "3.6.0"
  }
 },
 "nbformat": 4,
 "nbformat_minor": 2
}
