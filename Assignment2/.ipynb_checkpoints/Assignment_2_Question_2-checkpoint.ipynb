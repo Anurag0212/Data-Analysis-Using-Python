{
 "cells": [
  {
   "cell_type": "markdown",
   "metadata": {},
   "source": [
    "# Question 2:\n",
    "# Part 1-\n",
    "- Read all the json files in the folder called Data.  \n",
    "- There are three categories of json files in this folder. \n",
    "- They are identified by the key called “term” in each of the json file.  \n",
    "- Create a folder structure to read all these json files and store them into these separate folders. You are expected to create a hierarchy of folder structure.  \n",
    "- Example:  You can place all restaurants json files in a particular country (say Australia) in the same folder. \n",
    "- How you group the json files and create a folder structure is your choice. \n",
    "- Your task is to identify criteria by which you can group all these json files and store them.  \n",
    "- (You could use these keys to create hierarchy and store json files: Country, city, categories)\n",
    "- Output Format:  \n",
    "     - Create a folder (Name: Data Processed)  \n",
    "     - In this folder you should have a hierarchy of folder structures (Example: Data Processed/Australia(AU)/……..)\n",
    "     - A good idea is that you can classify json files on Country name or code (You can create a hierarchy of folder structures to effectively sort and store the files). \n",
    "     - The original json files in the folder “Data” have the name of the “id” key in the file. \n",
    "     - You can even think of changing the name of the json file when you read and store them."
   ]
  },
  {
   "cell_type": "code",
   "execution_count": 3,
   "metadata": {
    "collapsed": true
   },
   "outputs": [],
   "source": [
    "import csv\n",
    "import os, json\n",
    "import pandas as pd\n",
    "import datetime\n",
    "import shutil"
   ]
  },
  {
   "cell_type": "code",
   "execution_count": 4,
   "metadata": {
    "collapsed": false
   },
   "outputs": [
    {
     "name": "stdout",
     "output_type": "stream",
     "text": [
      "['1-abercrombie-lane-sydney.json', '1-chicken-rice-and-seafood-houston.json', '1-chinese-kitchen-san-jose-2.json', '10-custom-pizzeria-braddon.json', '10-downing-street-london.json', '10-greek-street-london.json', '100-club-london.json', '100-de-agave-denver.json', '100-hoxton-london.json', '109-adelaide.json', '11-inch-pizza-melbourne.json', '111-by-nico-glasgow-2.json', '127-bar-and-bistro-brisbane.json', '13-north-grille-phoenix.json', '13th-note-glasgow.json', '140-perth-perth.json', '1428-haight-patio-cafe-and-crepery-san-francisco.json', '143-photo-booths-san-jose.json', '163-vietnamese-sandwiches-and-bubble-tea-boston.json', '1760-san-francisco.json']\n"
     ]
    }
   ],
   "source": [
    "path_to_folder=r\"Data_Processed\"\n",
    "path_to_json = r\"Data\"\n",
    "json_files = [pos_json for pos_json in os.listdir(path_to_json) if pos_json.endswith('.json')]  \n",
    "print (json_files[:20]) "
   ]
  },
  {
   "cell_type": "code",
   "execution_count": 5,
   "metadata": {
    "collapsed": true
   },
   "outputs": [],
   "source": [
    "def create_dir(path_to_folder):  \n",
    "    if not os.path.exists(path_to_folder): \n",
    "        os.makedirs(path_to_folder)"
   ]
  },
  {
   "cell_type": "code",
   "execution_count": 7,
   "metadata": {
    "collapsed": false,
    "scrolled": true
   },
   "outputs": [],
   "source": [
    "path=\"\"\n",
    "for js in json_files: \n",
    "    with open(os.path.join(path_to_json, js)) as json_file: \n",
    "        loaded_file = json.load(json_file)\n",
    "        for key,value in loaded_file.items(): \n",
    "            if key == 'location': \n",
    "                country = value.get(\"country\") \n",
    "                state=value.get(\"state\")\n",
    "                city=value.get(\"city\")\n",
    "                path=os.path.join(path_to_folder +'\\\\' + country)\n",
    "                path=os.path.join(path +'\\\\' + state)\n",
    "                path=os.path.join(path +'\\\\' + city)\n",
    "            if key=='term':\n",
    "                term=value\n",
    "                path=os.path.join(path + '\\\\' + term)\n",
    "                create_dir(path)\n",
    "                shutil.copy(os.path.join(path_to_json, js) ,os.path.join(path,js))\n",
    "            json_file.close()"
   ]
  },
  {
   "cell_type": "markdown",
   "metadata": {},
   "source": [
    "# Part 2-\n",
    "- Read all the json files in the folder called Data.  \n",
    "- Read only the json files which contain the key called “restaurants”  \n",
    "- Each (or most of the json files) contain a key called “open” which contains the details of the operation (timings) of the restaurants. For each json file, read the timings of the restaurants.  \n",
    "- Data of the operation timings of the restaurants is present for each day of the week. \n",
    "- I want you to extract each of this data and write it in an excel sheet. "
   ]
  },
  {
   "cell_type": "code",
   "execution_count": 9,
   "metadata": {
    "collapsed": false
   },
   "outputs": [],
   "source": [
    "csvfile=open(r'restaurant_hours.csv', 'w',encoding='utf-8',newline=\"\") #Open the csvfile with write option\n",
    "writer=csv.writer(csvfile)                                                                \n",
    "writer.writerow(['Name of Restaurant','City','Country Code','Day of Week','Start Time Hour','Start Time Minute','End Time Hour','End Time Minute']) #Add heading for our csv file\n",
    "for js in json_files:                                                      #iterate to all the json files\n",
    "    with open(os.path.join(path_to_json, js)) as json_file:                #append the path of json files\n",
    "        loaded_file = json.load(json_file)                                 \n",
    "        for key,value in loaded_file.items():\n",
    "             if value=='restaurants':                                      #Matching the values from the file\n",
    "                    restaurants_name=loaded_file['name']\n",
    "                    for key,value in loaded_file.items():\n",
    "                        if key=='location':\n",
    "                            city=value.get('city')\n",
    "                            country=value.get('country')\n",
    "                            for key,value in loaded_file.items():       \n",
    "                                if key=='hours':\n",
    "                                    for v in value:\n",
    "                                        for k,v in v.items():\n",
    "                                            if k=='open':\n",
    "                                                for time in v:\n",
    "                                                    start_time= datetime.datetime.strptime(time['start'],\"%H%M\")       \n",
    "                                                    end_time=datetime.datetime.strptime(time['end'],\"%H%M\") # use strip time function to strip  the hours and minute from the end time                       \n",
    "                                                    writer.writerow([restaurants_name,city,country,time['day'],start_time.hour,start_time.minute,end_time.hour,end_time.minute]) #export the data in the required csv format"
   ]
  },
  {
   "cell_type": "code",
   "execution_count": null,
   "metadata": {
    "collapsed": true
   },
   "outputs": [],
   "source": []
  }
 ],
 "metadata": {
  "kernelspec": {
   "display_name": "Python 3",
   "language": "python",
   "name": "python3"
  },
  "language_info": {
   "codemirror_mode": {
    "name": "ipython",
    "version": 3
   },
   "file_extension": ".py",
   "mimetype": "text/x-python",
   "name": "python",
   "nbconvert_exporter": "python",
   "pygments_lexer": "ipython3",
   "version": "3.6.0"
  }
 },
 "nbformat": 4,
 "nbformat_minor": 2
}
