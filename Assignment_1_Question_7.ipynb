{
 "cells": [
  {
   "cell_type": "markdown",
   "metadata": {},
   "source": [
    "# Question 7\n",
    "- Use Name corpus, calculate the probability of a name being of a male or female base on the last character(s) of name.\n",
    "- Sample steps:\n",
    "- For char ‘a’:\n",
    "\ttotal_names = sum(names ending with ‘a’)\n",
    "\tmale_names = sum(male names ending with ‘a’)\n",
    "\tfemale_names = sum(female names ending with ‘a’)\n",
    "\tProbability of name being male = 100 * male_names / total_names\n",
    "2. Do this for all characters. \n",
    "- Output must come with proper title (e.g. [a] male: 25%, female: 60%)"
   ]
  },
  {
   "cell_type": "code",
   "execution_count": 42,
   "metadata": {
    "collapsed": false
   },
   "outputs": [],
   "source": [
    "import nltk\n",
    "from nltk.corpus import names\n",
    "from string import ascii_lowercase\n",
    "File=names.fileids()\n",
    "\n",
    "Total_Names=names.words()\n",
    "Male_Names=names.words('male.txt')\n",
    "Female_Names=names.words('female.txt')"
   ]
  },
  {
   "cell_type": "code",
   "execution_count": 56,
   "metadata": {
    "collapsed": false
   },
   "outputs": [
    {
     "name": "stdout",
     "output_type": "stream",
     "text": [
      "[ a ] male: 1.61 % \tfemale 98.39 %\n",
      "[ b ] male: 70.0 % \tfemale 30.0 %\n",
      "[ c ] male: 100.0 % \tfemale 0.0 %\n",
      "[ d ] male: 85.39 % \tfemale 14.61 %\n",
      "[ e ] male: 24.63 % \tfemale 75.37 %\n",
      "[ f ] male: 92.59 % \tfemale 7.41 %\n",
      "[ g ] male: 76.19 % \tfemale 23.81 %\n",
      "[ h ] male: 46.97 % \tfemale 53.03 %\n",
      "[ i ] male: 13.62 % \tfemale 86.38 %\n",
      "[ j ] male: 75.0 % \tfemale 25.0 %\n",
      "[ k ] male: 95.83 % \tfemale 4.17 %\n",
      "[ l ] male: 51.09 % \tfemale 48.91 %\n",
      "[ m ] male: 84.34 % \tfemale 15.66 %\n",
      "[ n ] male: 55.32 % \tfemale 44.68 %\n",
      "[ o ] male: 83.33 % \tfemale 16.67 %\n",
      "[ p ] male: 90.0 % \tfemale 10.0 %\n",
      "There are no names as such\n",
      "[ r ] male: 80.17 % \tfemale 19.83 %\n",
      "[ s ] male: 71.21 % \tfemale 28.79 %\n",
      "[ t ] male: 70.69 % \tfemale 29.31 %\n",
      "[ u ] male: 66.67 % \tfemale 33.33 %\n",
      "[ v ] male: 88.89 % \tfemale 11.11 %\n",
      "[ w ] male: 77.27 % \tfemale 22.73 %\n",
      "[ x ] male: 50.0 % \tfemale 50.0 %\n",
      "[ y ] male: 41.87 % \tfemale 58.13 %\n",
      "[ z ] male: 73.33 % \tfemale 26.67 %\n"
     ]
    }
   ],
   "source": [
    "char=()  \n",
    "for x in range(26):\n",
    "    try:\n",
    "        char=ascii_lowercase[x]                                 \n",
    "        TotalNames=[x for x in Total_Names if x.endswith(char)]   #Checking names for each char in total names\n",
    "        MalesNames=[x for x in Male_Names if x.endswith(char)]    #Checking names for each char in Male names\n",
    "        FemalesNames=[x for x in Female_Names if x.endswith(char)] #Checking names for each char in Female names\n",
    "        MaleProbability=100*len(MalesNames)/len(TotalNames)      #Calculating Male Names probability\n",
    "        Round_MaleProbability=round(MaleProbability,2)           #Rounding off the values\n",
    "        FemaleProbability=100*len(FemalesNames)/len(TotalNames)  #calculating Female name probability\n",
    "        Round_FemaleProbability=round(FemaleProbability,2)      #Rounding off the values\n",
    "        print('[',char,']',\"male:\",Round_MaleProbability,'%'\n",
    "              ,\"\\tfemale\",Round_FemaleProbability,'%')\n",
    "    except ZeroDivisionError:\n",
    "        print(\"There are no names as such\")\n"
   ]
  },
  {
   "cell_type": "code",
   "execution_count": null,
   "metadata": {
    "collapsed": true
   },
   "outputs": [],
   "source": []
  }
 ],
 "metadata": {
  "kernelspec": {
   "display_name": "Python 3",
   "language": "python",
   "name": "python3"
  },
  "language_info": {
   "codemirror_mode": {
    "name": "ipython",
    "version": 3
   },
   "file_extension": ".py",
   "mimetype": "text/x-python",
   "name": "python",
   "nbconvert_exporter": "python",
   "pygments_lexer": "ipython3",
   "version": "3.6.0"
  }
 },
 "nbformat": 4,
 "nbformat_minor": 2
}
