{
 "cells": [
  {
   "cell_type": "markdown",
   "metadata": {},
   "source": [
    "# Question 6\n",
    "- Under Inaugural Address package\n",
    "- For every president, find out how many unique words they used in speech. \n",
    "- We will just assume that President Bush means one person (technically it is incorrect but we will ignore it)"
   ]
  },
  {
   "cell_type": "code",
   "execution_count": 32,
   "metadata": {
    "collapsed": false
   },
   "outputs": [
    {
     "name": "stdout",
     "output_type": "stream",
     "text": [
      "There are 34 presidents under inaugural module:\n"
     ]
    },
    {
     "data": {
      "text/plain": [
       "['Washington',\n",
       " 'Adams',\n",
       " 'Jefferson',\n",
       " 'Madison',\n",
       " 'Monroe',\n",
       " 'Jackson',\n",
       " 'VanBuren',\n",
       " 'Harrison',\n",
       " 'Polk',\n",
       " 'Taylor',\n",
       " 'Pierce',\n",
       " 'Buchanan',\n",
       " 'Lincoln',\n",
       " 'Grant',\n",
       " 'Hayes',\n",
       " 'Garfield',\n",
       " 'Cleveland',\n",
       " 'McKinley',\n",
       " 'Roosevelt',\n",
       " 'Taft',\n",
       " 'Wilson',\n",
       " 'Harding',\n",
       " 'Coolidge',\n",
       " 'Hoover',\n",
       " 'Truman',\n",
       " 'Eisenhower',\n",
       " 'Kennedy',\n",
       " 'Johnson',\n",
       " 'Nixon',\n",
       " 'Carter',\n",
       " 'Reagan',\n",
       " 'Bush',\n",
       " 'Clinton',\n",
       " 'Obama']"
      ]
     },
     "execution_count": 32,
     "metadata": {},
     "output_type": "execute_result"
    }
   ],
   "source": [
    "# Under Inaugural Address package\n",
    "\n",
    "import nltk\n",
    "from nltk.corpus import inaugural\n",
    "Files=inaugural.fileids()\n",
    "President_List=[]\n",
    "for words in Files:\n",
    "    president=words[5:-4]\n",
    "    if president not in President_List:\n",
    "        President_List.append(president)\n",
    "print(\"There are\",len(President_List),\"presidents under inaugural module:\")\n",
    "President_List"
   ]
  },
  {
   "cell_type": "code",
   "execution_count": 30,
   "metadata": {
    "collapsed": false
   },
   "outputs": [
    {
     "name": "stdout",
     "output_type": "stream",
     "text": [
      "President Washington  628\n",
      "President Washington  96\n",
      "President Adams  828\n",
      "President Jefferson  717\n",
      "President Jefferson  806\n",
      "President Madison  537\n",
      "President Madison  542\n",
      "President Monroe  1041\n",
      "President Monroe  1265\n",
      "President Adams  1007\n",
      "President Jackson  517\n",
      "President Jackson  502\n",
      "President VanBuren  1318\n",
      "President Harrison  1893\n",
      "President Polk  1333\n",
      "President Taylor  499\n",
      "President Pierce  1168\n",
      "President Buchanan  948\n",
      "President Lincoln  1078\n",
      "President Lincoln  363\n",
      "President Grant  489\n",
      "President Grant  553\n",
      "President Hayes  832\n",
      "President Garfield  1022\n",
      "President Cleveland  676\n",
      "President Harrison  1358\n",
      "President Cleveland  820\n",
      "President McKinley  1239\n",
      "President McKinley  860\n",
      "President Roosevelt  405\n",
      "President Taft  1439\n",
      "President Wilson  661\n",
      "President Wilson  549\n",
      "President Harding  1170\n",
      "President Coolidge  1221\n",
      "President Hoover  1087\n",
      "President Roosevelt  746\n",
      "President Roosevelt  732\n",
      "President Roosevelt  527\n",
      "President Roosevelt  280\n",
      "President Truman  781\n",
      "President Eisenhower  899\n",
      "President Eisenhower  622\n",
      "President Kennedy  570\n",
      "President Johnson  571\n",
      "President Nixon  743\n",
      "President Nixon  545\n",
      "President Carter  529\n",
      "President Reagan  907\n",
      "President Reagan  924\n",
      "President Bush  793\n",
      "President Clinton  643\n",
      "President Clinton  774\n",
      "President Bush  622\n",
      "President Bush  783\n",
      "President Obama  938\n"
     ]
    }
   ],
   "source": [
    "President_Names=[]\n",
    "for speech in Files:\n",
    "    President_Name=speech[5:-4]\n",
    "    President_Names.append(President_Name)\n",
    "    unique_word=[]\n",
    "    for word in inaugural.words(speech):\n",
    "        unique_word.append(word)\n",
    "    count=len(set(unique_word))\n",
    "    print(President_Name,\"\",count)"
   ]
  },
  {
   "cell_type": "code",
   "execution_count": null,
   "metadata": {
    "collapsed": true
   },
   "outputs": [],
   "source": []
  }
 ],
 "metadata": {
  "kernelspec": {
   "display_name": "Python 3",
   "language": "python",
   "name": "python3"
  },
  "language_info": {
   "codemirror_mode": {
    "name": "ipython",
    "version": 3
   },
   "file_extension": ".py",
   "mimetype": "text/x-python",
   "name": "python",
   "nbconvert_exporter": "python",
   "pygments_lexer": "ipython3",
   "version": "3.6.0"
  }
 },
 "nbformat": 4,
 "nbformat_minor": 2
}
